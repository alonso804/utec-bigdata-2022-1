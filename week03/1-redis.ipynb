{
 "cells": [
  {
   "cell_type": "markdown",
   "metadata": {},
   "source": [
    "# Redis tutorial"
   ]
  },
  {
   "cell_type": "markdown",
   "metadata": {},
   "source": [
    "## Prerequisites"
   ]
  },
  {
   "cell_type": "markdown",
   "metadata": {},
   "source": [
    "### Server status\n",
    "\n",
    "Check the status of your Redis cluster : `!sudo service redis-server status`\n",
    "\n",
    "If the Redis cluster is inactive, `!sudo service redis-server start` to start it."
   ]
  },
  {
   "cell_type": "code",
   "execution_count": null,
   "metadata": {},
   "outputs": [],
   "source": [
    "!sudo service redis-server status"
   ]
  },
  {
   "cell_type": "markdown",
   "metadata": {},
   "source": [
    "### Documentation\n",
    "\n",
    "You will find all documentation for :\n",
    "* [Redis commands](https://redis.io/commands)\n",
    "* [Redis python client](https://redis-py.readthedocs.io/en/latest/)\n",
    "\n",
    "Though the tutorial asks you to use Redis commands, they all have an equivalent in the Python client library."
   ]
  },
  {
   "cell_type": "markdown",
   "metadata": {},
   "source": [
    "### Import libraries"
   ]
  },
  {
   "cell_type": "code",
   "execution_count": 1,
   "metadata": {},
   "outputs": [],
   "source": [
    "import redis"
   ]
  },
  {
   "cell_type": "code",
   "execution_count": 2,
   "metadata": {},
   "outputs": [],
   "source": [
    "r = redis.Redis(host='localhost', port=6379)"
   ]
  },
  {
   "cell_type": "code",
   "execution_count": 3,
   "metadata": {},
   "outputs": [
    {
     "name": "stdout",
     "output_type": "stream",
     "text": [
      "b'bar'\n"
     ]
    }
   ],
   "source": [
    "r.set('foo', 'bar')\n",
    "value = r.get('foo')\n",
    "print(value)"
   ]
  },
  {
   "cell_type": "markdown",
   "metadata": {},
   "source": [
    "You can launch a terminal aside, connect to your server with a Redis client and check that the value is still present :\n",
    "\n",
    "```bash\n",
    "vagrant@nosql:~$ redis-cli\n",
    "127.0.0.1:6379> get foo\n",
    "\"bar\"\n",
    "```"
   ]
  },
  {
   "cell_type": "markdown",
   "metadata": {},
   "source": [
    "## I. Quick start"
   ]
  },
  {
   "cell_type": "markdown",
   "metadata": {},
   "source": [
    "### Strings and numbers"
   ]
  },
  {
   "cell_type": "markdown",
   "metadata": {},
   "source": [
    "**Q** : Store the string `hello world` in key `greetings` with a `SET` command. Then use a `GET` command to retrieve it."
   ]
  },
  {
   "cell_type": "code",
   "execution_count": 4,
   "metadata": {},
   "outputs": [
    {
     "name": "stdout",
     "output_type": "stream",
     "text": [
      "b'hello world'\n"
     ]
    }
   ],
   "source": [
    "r.set('greetings', 'hello world')\n",
    "value = r.get('greetings')\n",
    "print(value)"
   ]
  },
  {
   "cell_type": "markdown",
   "metadata": {},
   "source": [
    "**Q** : Create a `connections` key with value 0. Find the `INCR` command to increment its value, then display it. \n",
    "\n",
    "Try to increment the value for `greetings`."
   ]
  },
  {
   "cell_type": "code",
   "execution_count": 5,
   "metadata": {},
   "outputs": [
    {
     "data": {
      "text/plain": [
       "True"
      ]
     },
     "execution_count": 5,
     "metadata": {},
     "output_type": "execute_result"
    }
   ],
   "source": [
    "r.set('connections', 0)"
   ]
  },
  {
   "cell_type": "code",
   "execution_count": 10,
   "metadata": {},
   "outputs": [
    {
     "name": "stdout",
     "output_type": "stream",
     "text": [
      "Before: b'4'\n",
      "After:  b'5'\n"
     ]
    }
   ],
   "source": [
    "print(\"Before:\", r.get('connections'))\n",
    "r.incr('connections')\n",
    "print(\"After: \", r.get('connections'))"
   ]
  },
  {
   "cell_type": "code",
   "execution_count": 12,
   "metadata": {},
   "outputs": [
    {
     "name": "stdout",
     "output_type": "stream",
     "text": [
      "Before: b'hello world'\n"
     ]
    }
   ],
   "source": [
    "print(\"Before:\", r.get('greetings'))\n",
    "#r.incr('greetings') #doesn't work\n",
    "#print(\"After: \", r.get('greetings'))"
   ]
  },
  {
   "cell_type": "markdown",
   "metadata": {},
   "source": [
    "### Lists"
   ]
  },
  {
   "cell_type": "markdown",
   "metadata": {},
   "source": [
    "**Q** : Create a `colors` list with strings `red`, `black` and `blue`, using the `RPUSH` command."
   ]
  },
  {
   "cell_type": "code",
   "execution_count": 18,
   "metadata": {},
   "outputs": [
    {
     "data": {
      "text/plain": [
       "3"
      ]
     },
     "execution_count": 18,
     "metadata": {},
     "output_type": "execute_result"
    }
   ],
   "source": [
    "listName = 'colors'\n",
    "r.rpush(listName, 'red')\n",
    "r.rpush(listName, 'black')\n",
    "r.rpush(listName, 'blue')"
   ]
  },
  {
   "cell_type": "markdown",
   "metadata": {},
   "source": [
    "**Q** : Display the second element of the list with `LINDEX`"
   ]
  },
  {
   "cell_type": "code",
   "execution_count": 20,
   "metadata": {},
   "outputs": [
    {
     "data": {
      "text/plain": [
       "b'black'"
      ]
     },
     "execution_count": 20,
     "metadata": {},
     "output_type": "execute_result"
    }
   ],
   "source": [
    "r.lindex(listName, 1)"
   ]
  },
  {
   "cell_type": "markdown",
   "metadata": {},
   "source": [
    "**Q** : Display the full list with `LRANGE`"
   ]
  },
  {
   "cell_type": "code",
   "execution_count": 21,
   "metadata": {},
   "outputs": [
    {
     "data": {
      "text/plain": [
       "[b'red', b'black', b'blue']"
      ]
     },
     "execution_count": 21,
     "metadata": {},
     "output_type": "execute_result"
    }
   ],
   "source": [
    "r.lrange(listName, 0, -1)"
   ]
  },
  {
   "cell_type": "markdown",
   "metadata": {},
   "source": [
    "### Using sets"
   ]
  },
  {
   "cell_type": "markdown",
   "metadata": {},
   "source": [
    "**Q** : Create a `nosql` set containing values `redis`, `mongodb` and `orientdb`, using the `SADD` command."
   ]
  },
  {
   "cell_type": "code",
   "execution_count": 22,
   "metadata": {},
   "outputs": [
    {
     "data": {
      "text/plain": [
       "0"
      ]
     },
     "execution_count": 22,
     "metadata": {},
     "output_type": "execute_result"
    }
   ],
   "source": [
    "name = \"nosql\"\n",
    "r.sadd(name, \"redis\")\n",
    "r.sadd(name, \"mongodb\")\n",
    "r.sadd(name, \"orientdb\")\n",
    "r.sadd(name, \"redis\")"
   ]
  },
  {
   "cell_type": "code",
   "execution_count": 24,
   "metadata": {},
   "outputs": [
    {
     "data": {
      "text/plain": [
       "{b'mongodb', b'orientdb', b'redis'}"
      ]
     },
     "execution_count": 24,
     "metadata": {},
     "output_type": "execute_result"
    }
   ],
   "source": [
    "r.smembers(name)"
   ]
  },
  {
   "cell_type": "markdown",
   "metadata": {},
   "source": [
    "**Q** : Test if `mysql` is inside the set, using `SISMEMBER`"
   ]
  },
  {
   "cell_type": "code",
   "execution_count": 25,
   "metadata": {},
   "outputs": [
    {
     "data": {
      "text/plain": [
       "False"
      ]
     },
     "execution_count": 25,
     "metadata": {},
     "output_type": "execute_result"
    }
   ],
   "source": [
    "r.sismember(name, \"mysql\")"
   ]
  },
  {
   "cell_type": "markdown",
   "metadata": {},
   "source": [
    "**Q** : Add `hbase` to the set with `SADD`, then display all elements of the set with `SMEMBERS`. Try to add `redis` again and see what happens."
   ]
  },
  {
   "cell_type": "code",
   "execution_count": 26,
   "metadata": {},
   "outputs": [
    {
     "data": {
      "text/plain": [
       "{b'hbase', b'mongodb', b'orientdb', b'redis'}"
      ]
     },
     "execution_count": 26,
     "metadata": {},
     "output_type": "execute_result"
    }
   ],
   "source": [
    "r.sadd(name, \"hbase\")\n",
    "r.sadd(name, \"redis\")\n",
    "r.smembers(name)"
   ]
  },
  {
   "cell_type": "markdown",
   "metadata": {},
   "source": [
    "### Using sorted sets\n",
    "\n",
    "Sorted Sets are similar to Redis Sets with the unique feature of values stored in a set. The difference is, every member of a Sorted Set is associated with a score, that is used in order to take the sorted set ordered, from the smallest to the greatest score."
   ]
  },
  {
   "cell_type": "markdown",
   "metadata": {},
   "source": [
    "**Q** : Using `ZADD`, create a sorted set `top14` with the following entries :\n",
    "\n",
    "```\n",
    "score city\n",
    "10 Agen \n",
    "33 Bordeaux \n",
    "32 Brive \n",
    "29 Castres \n",
    "38 Clermont \n",
    "24 Grenoble \n",
    "26 La Rochelle \n",
    "32 Montpellier \n",
    "14 Oyonnax \n",
    "20 Pau \n",
    "40 Racing \n",
    "22 Stade Français \n",
    "36 Toulon \n",
    "36 Toulouse\n",
    "```"
   ]
  },
  {
   "cell_type": "code",
   "execution_count": 32,
   "metadata": {},
   "outputs": [
    {
     "data": {
      "text/plain": [
       "1"
      ]
     },
     "execution_count": 32,
     "metadata": {},
     "output_type": "execute_result"
    }
   ],
   "source": [
    "name = \"top14\"\n",
    "r.zadd(name, { 'Bordeaux': 10 })\n",
    "r.zadd(name, { 'Agen': 33 })\n",
    "r.zadd(name, { 'Brive': 32 })\n",
    "r.zadd(name, { 'Castres': 29 })\n",
    "r.zadd(name, { 'Clermont': 38 })\n",
    "r.zadd(name, { 'Grenoble': 24 })\n",
    "r.zadd(name, { 'La Rochelle': 26 })\n",
    "r.zadd(name, { 'Montpellier': 32 })\n",
    "r.zadd(name, { 'Oyonnax': 14 })\n",
    "r.zadd(name, { 'Pau': 20 })\n",
    "r.zadd(name, { 'Racing': 40 })\n",
    "r.zadd(name, { 'Stade Français': 22 })\n",
    "r.zadd(name, { 'Toulon': 36 })\n",
    "r.zadd(name, { 'Toulouse': 36 })"
   ]
  },
  {
   "cell_type": "markdown",
   "metadata": {},
   "source": [
    "**Q** : Fetch the score for `Toulon` with `ZSCORE`, and its ranking with `ZRANK`."
   ]
  },
  {
   "cell_type": "code",
   "execution_count": 33,
   "metadata": {},
   "outputs": [
    {
     "name": "stdout",
     "output_type": "stream",
     "text": [
      "36.0\n",
      "10\n"
     ]
    }
   ],
   "source": [
    "print(r.zscore(name, 'Toulon'))\n",
    "print(r.zrank(name, 'Toulon'))"
   ]
  },
  {
   "cell_type": "markdown",
   "metadata": {},
   "source": [
    "**Q** : `ZRANK` starts at 0 and scores are sorted from lowest to highest, so we should use the `ZREVRANK` for a true ranking of our cities."
   ]
  },
  {
   "cell_type": "code",
   "execution_count": 35,
   "metadata": {},
   "outputs": [
    {
     "data": {
      "text/plain": [
       "3"
      ]
     },
     "execution_count": 35,
     "metadata": {},
     "output_type": "execute_result"
    }
   ],
   "source": [
    "r.zrevrank(name, 'Toulon')"
   ]
  },
  {
   "cell_type": "markdown",
   "metadata": {},
   "source": [
    "**Q** : Find the commands to display :\n",
    "* the 3 best teams\n",
    "* teams with more than 35 points"
   ]
  },
  {
   "cell_type": "code",
   "execution_count": 38,
   "metadata": {},
   "outputs": [
    {
     "data": {
      "text/plain": [
       "[(b'Racing', 40.0), (b'Clermont', 38.0), (b'Toulouse', 36.0)]"
      ]
     },
     "execution_count": 38,
     "metadata": {},
     "output_type": "execute_result"
    }
   ],
   "source": [
    "r.zrevrange(name, 0, 2, withscores=True)"
   ]
  },
  {
   "cell_type": "code",
   "execution_count": 40,
   "metadata": {},
   "outputs": [
    {
     "data": {
      "text/plain": [
       "[(b'Racing', 40.0),\n",
       " (b'Clermont', 38.0),\n",
       " (b'Toulouse', 36.0),\n",
       " (b'Toulon', 36.0)]"
      ]
     },
     "execution_count": 40,
     "metadata": {},
     "output_type": "execute_result"
    }
   ],
   "source": [
    "r.zrevrangebyscore(name, 100, 35, withscores=True)"
   ]
  },
  {
   "cell_type": "markdown",
   "metadata": {},
   "source": [
    "### Using dictionaries"
   ]
  },
  {
   "cell_type": "markdown",
   "metadata": {},
   "source": [
    "**Q** : Create a dictionary `user:1` with `HMSET` with properties `id (1), name (Jean), age (22)`. Display it with `HGETALL`"
   ]
  },
  {
   "cell_type": "code",
   "execution_count": 44,
   "metadata": {},
   "outputs": [
    {
     "name": "stderr",
     "output_type": "stream",
     "text": [
      "C:\\tools\\Anaconda3\\envs\\utec-bigdata-2022-1\\lib\\site-packages\\ipykernel_launcher.py:3: DeprecationWarning: Redis.hmset() is deprecated. Use Redis.hset() instead.\n",
      "  This is separate from the ipykernel package so we can avoid doing imports until\n"
     ]
    },
    {
     "data": {
      "text/plain": [
       "True"
      ]
     },
     "execution_count": 44,
     "metadata": {},
     "output_type": "execute_result"
    }
   ],
   "source": [
    "name = \"user\"\n",
    "user = { \"id\": 1, \"name\": \"Jean\", \"age\": 22 }\n",
    "r.hmset(name, user)"
   ]
  },
  {
   "cell_type": "code",
   "execution_count": 45,
   "metadata": {},
   "outputs": [
    {
     "data": {
      "text/plain": [
       "{b'id': b'1', b'name': b'Jean', b'age': b'22'}"
      ]
     },
     "execution_count": 45,
     "metadata": {},
     "output_type": "execute_result"
    }
   ],
   "source": [
    "r.hgetall(name)"
   ]
  },
  {
   "cell_type": "markdown",
   "metadata": {},
   "source": [
    "**Q** : Add a `city (Lyon)` property and rename the user from `Jean` to `Paul`."
   ]
  },
  {
   "cell_type": "code",
   "execution_count": 46,
   "metadata": {},
   "outputs": [
    {
     "data": {
      "text/plain": [
       "1"
      ]
     },
     "execution_count": 46,
     "metadata": {},
     "output_type": "execute_result"
    }
   ],
   "source": [
    "r.hset(name, \"city\", \"Lyon\")"
   ]
  },
  {
   "cell_type": "code",
   "execution_count": 47,
   "metadata": {},
   "outputs": [
    {
     "data": {
      "text/plain": [
       "{b'id': b'1', b'name': b'Jean', b'age': b'22', b'city': b'Lyon'}"
      ]
     },
     "execution_count": 47,
     "metadata": {},
     "output_type": "execute_result"
    }
   ],
   "source": [
    "r.hgetall(name)"
   ]
  },
  {
   "cell_type": "code",
   "execution_count": 48,
   "metadata": {},
   "outputs": [
    {
     "data": {
      "text/plain": [
       "{b'id': b'1', b'name': b'Paul', b'age': b'22', b'city': b'Lyon'}"
      ]
     },
     "execution_count": 48,
     "metadata": {},
     "output_type": "execute_result"
    }
   ],
   "source": [
    "r.hset(name, \"name\", \"Paul\")\n",
    "r.hgetall(name)"
   ]
  },
  {
   "cell_type": "markdown",
   "metadata": {},
   "source": [
    "## Modelling a query cache with Redis\n",
    "\n",
    "You are modeling data from a REST query cache system with Redis.\n",
    "A request is identified by the http method and its url (without the protocol).\n",
    "The content of the request is stored as it is to be returned on demand."
   ]
  },
  {
   "cell_type": "markdown",
   "metadata": {},
   "source": [
    "**Q** : Insert a PUT request in the cache on http://my-api.fr/user/10 whose answer is {\"id\": 10, \"name\": \"jean\"}"
   ]
  },
  {
   "cell_type": "code",
   "execution_count": null,
   "metadata": {},
   "outputs": [],
   "source": []
  },
  {
   "cell_type": "markdown",
   "metadata": {},
   "source": [
    "**Q** : Insert a GET request in the cache on http://my-api.fr/user?size=2 whose answer is[{\"id\": 10, \"name\": jean}, {\"id\": 11, \"name\": \"Claire\"}]"
   ]
  },
  {
   "cell_type": "code",
   "execution_count": null,
   "metadata": {},
   "outputs": [],
   "source": []
  },
  {
   "cell_type": "markdown",
   "metadata": {},
   "source": [
    "**Q** : Create a set of cache request keys."
   ]
  },
  {
   "cell_type": "code",
   "execution_count": null,
   "metadata": {},
   "outputs": [],
   "source": []
  },
  {
   "cell_type": "markdown",
   "metadata": {},
   "source": [
    "**Q** : Check if the GET request on http: //http://my-api.fr/user"
   ]
  },
  {
   "cell_type": "code",
   "execution_count": null,
   "metadata": {},
   "outputs": [],
   "source": []
  },
  {
   "cell_type": "markdown",
   "metadata": {},
   "source": [
    "**Q** : Delete the PUT request on http://my-api.fr/user/10 from the cache."
   ]
  },
  {
   "cell_type": "code",
   "execution_count": null,
   "metadata": {},
   "outputs": [],
   "source": []
  },
  {
   "cell_type": "markdown",
   "metadata": {},
   "source": [
    "## Postquisites\n",
    "\n",
    "The folloinwg command removes all data from your Redis cluster."
   ]
  },
  {
   "cell_type": "code",
   "execution_count": null,
   "metadata": {},
   "outputs": [],
   "source": [
    "!redis-cli flushall"
   ]
  }
 ],
 "metadata": {
  "kernelspec": {
   "display_name": "Python 3 (ipykernel)",
   "language": "python",
   "name": "python3"
  },
  "language_info": {
   "codemirror_mode": {
    "name": "ipython",
    "version": 3
   },
   "file_extension": ".py",
   "mimetype": "text/x-python",
   "name": "python",
   "nbconvert_exporter": "python",
   "pygments_lexer": "ipython3",
   "version": "3.7.13"
  }
 },
 "nbformat": 4,
 "nbformat_minor": 2
}
